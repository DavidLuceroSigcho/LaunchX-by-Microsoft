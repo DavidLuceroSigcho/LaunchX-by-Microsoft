{
 "cells": [
  {
   "cell_type": "markdown",
   "metadata": {},
   "source": [
    "Ejercicio 1:"
   ]
  },
  {
   "cell_type": "code",
   "execution_count": 1,
   "metadata": {},
   "outputs": [],
   "source": [
    "# Crea un diccionario llamado planet con los datos propuestos\n",
    "\n",
    "planet = {\n",
    "    'name': 'Mars',\n",
    "    'moons': 2\n",
    "}"
   ]
  },
  {
   "cell_type": "code",
   "execution_count": 2,
   "metadata": {},
   "outputs": [
    {
     "name": "stdout",
     "output_type": "stream",
     "text": [
      "Mars has 2 moons\n"
     ]
    }
   ],
   "source": [
    "# Muestra el nombre del planeta y el número de lunas que tiene.\n",
    "\n",
    "print(f'{planet[\"name\"]} has {planet[\"moons\"]} moons')"
   ]
  },
  {
   "cell_type": "code",
   "execution_count": 3,
   "metadata": {},
   "outputs": [],
   "source": [
    "# Agrega la clave circunferencia con los datos proporcionados previamente\n",
    "\n",
    "planet['circumference (km)'] = {\n",
    "    'polar': 6752,\n",
    "    'equatorial': 6792\n",
    "}"
   ]
  },
  {
   "cell_type": "code",
   "execution_count": 4,
   "metadata": {},
   "outputs": [
    {
     "name": "stdout",
     "output_type": "stream",
     "text": [
      "Mars has a polar circumference of 6752\n"
     ]
    }
   ],
   "source": [
    "# Imprime el nombre del planeta con su circunferencia polar.\n",
    "\n",
    "print(f'{planet[\"name\"]} has a polar circumference of {planet[\"circumference (km)\"][\"polar\"]}')"
   ]
  },
  {
   "cell_type": "markdown",
   "metadata": {},
   "source": [
    "Ejercicio 2:"
   ]
  },
  {
   "cell_type": "code",
   "execution_count": 5,
   "metadata": {},
   "outputs": [
    {
     "ename": "NameError",
     "evalue": "name 'planet_moons' is not defined",
     "output_type": "error",
     "traceback": [
      "\u001b[1;31m---------------------------------------------------------------------------\u001b[0m",
      "\u001b[1;31mNameError\u001b[0m                                 Traceback (most recent call last)",
      "\u001b[1;32mc:\\Users\\David Lucero\\Downloads\\Developer FullStack\\LaunchX by Microsoft\\Ejercicios-Python\\Katas8-LaunchX-LuceroSigcho-DavidAdriel.ipynb Cell 7'\u001b[0m in \u001b[0;36m<module>\u001b[1;34m\u001b[0m\n\u001b[0;32m      <a href='vscode-notebook-cell:/c%3A/Users/David%20Lucero/Downloads/Developer%20FullStack/LaunchX%20by%20Microsoft/Ejercicios-Python/Katas8-LaunchX-LuceroSigcho-DavidAdriel.ipynb#ch0000005?line=0'>1</a>\u001b[0m \u001b[39m# Añade el código para determinar el número de lunas.\u001b[39;00m\n\u001b[0;32m      <a href='vscode-notebook-cell:/c%3A/Users/David%20Lucero/Downloads/Developer%20FullStack/LaunchX%20by%20Microsoft/Ejercicios-Python/Katas8-LaunchX-LuceroSigcho-DavidAdriel.ipynb#ch0000005?line=1'>2</a>\u001b[0m \n\u001b[0;32m      <a href='vscode-notebook-cell:/c%3A/Users/David%20Lucero/Downloads/Developer%20FullStack/LaunchX%20by%20Microsoft/Ejercicios-Python/Katas8-LaunchX-LuceroSigcho-DavidAdriel.ipynb#ch0000005?line=2'>3</a>\u001b[0m \u001b[39m# Obtenemos la lista de las lunas\u001b[39;00m\n\u001b[0;32m      <a href='vscode-notebook-cell:/c%3A/Users/David%20Lucero/Downloads/Developer%20FullStack/LaunchX%20by%20Microsoft/Ejercicios-Python/Katas8-LaunchX-LuceroSigcho-DavidAdriel.ipynb#ch0000005?line=3'>4</a>\u001b[0m \u001b[39m# Almacenamos los resultados en una variable moons\u001b[39;00m\n\u001b[1;32m----> <a href='vscode-notebook-cell:/c%3A/Users/David%20Lucero/Downloads/Developer%20FullStack/LaunchX%20by%20Microsoft/Ejercicios-Python/Katas8-LaunchX-LuceroSigcho-DavidAdriel.ipynb#ch0000005?line=4'>5</a>\u001b[0m moons \u001b[39m=\u001b[39m planet_moons\u001b[39m.\u001b[39mvalues()\n\u001b[0;32m      <a href='vscode-notebook-cell:/c%3A/Users/David%20Lucero/Downloads/Developer%20FullStack/LaunchX%20by%20Microsoft/Ejercicios-Python/Katas8-LaunchX-LuceroSigcho-DavidAdriel.ipynb#ch0000005?line=6'>7</a>\u001b[0m \u001b[39m# Obtenemos el total de planetas\u001b[39;00m\n\u001b[0;32m      <a href='vscode-notebook-cell:/c%3A/Users/David%20Lucero/Downloads/Developer%20FullStack/LaunchX%20by%20Microsoft/Ejercicios-Python/Katas8-LaunchX-LuceroSigcho-DavidAdriel.ipynb#ch0000005?line=7'>8</a>\u001b[0m \u001b[39m# Almacenamos los resultados en una variable llamada years\u001b[39;00m\n\u001b[0;32m      <a href='vscode-notebook-cell:/c%3A/Users/David%20Lucero/Downloads/Developer%20FullStack/LaunchX%20by%20Microsoft/Ejercicios-Python/Katas8-LaunchX-LuceroSigcho-DavidAdriel.ipynb#ch0000005?line=8'>9</a>\u001b[0m planets \u001b[39m=\u001b[39m \u001b[39mlen\u001b[39m(planet_moons\u001b[39m.\u001b[39mkeys())\n",
      "\u001b[1;31mNameError\u001b[0m: name 'planet_moons' is not defined"
     ]
    }
   ],
   "source": [
    "# Añade el código para determinar el número de lunas.\n",
    "\n",
    "# Obtenemos la lista de las lunas\n",
    "# Almacenamos los resultados en una variable moons\n",
    "moons = planet_moons.values()\n",
    "\n",
    "# Obtenemos el total de planetas\n",
    "# Almacenamos los resultados en una variable llamada years\n",
    "planets = len(planet_moons.keys())"
   ]
  },
  {
   "cell_type": "code",
   "execution_count": 6,
   "metadata": {},
   "outputs": [
    {
     "ename": "NameError",
     "evalue": "name 'moons' is not defined",
     "output_type": "error",
     "traceback": [
      "\u001b[1;31m---------------------------------------------------------------------------\u001b[0m",
      "\u001b[1;31mNameError\u001b[0m                                 Traceback (most recent call last)",
      "\u001b[1;32mc:\\Users\\David Lucero\\Downloads\\Developer FullStack\\LaunchX by Microsoft\\Ejercicios-Python\\Katas8-LaunchX-LuceroSigcho-DavidAdriel.ipynb Cell 8'\u001b[0m in \u001b[0;36m<module>\u001b[1;34m\u001b[0m\n\u001b[0;32m      <a href='vscode-notebook-cell:/c%3A/Users/David%20Lucero/Downloads/Developer%20FullStack/LaunchX%20by%20Microsoft/Ejercicios-Python/Katas8-LaunchX-LuceroSigcho-DavidAdriel.ipynb#ch0000007?line=0'>1</a>\u001b[0m \u001b[39m# Calcula el total_moons agregando todas las lunas\u001b[39;00m\n\u001b[0;32m      <a href='vscode-notebook-cell:/c%3A/Users/David%20Lucero/Downloads/Developer%20FullStack/LaunchX%20by%20Microsoft/Ejercicios-Python/Katas8-LaunchX-LuceroSigcho-DavidAdriel.ipynb#ch0000007?line=1'>2</a>\u001b[0m \u001b[39m# Almacena su valor en una variable llamada total_moons\u001b[39;00m\n\u001b[0;32m      <a href='vscode-notebook-cell:/c%3A/Users/David%20Lucero/Downloads/Developer%20FullStack/LaunchX%20by%20Microsoft/Ejercicios-Python/Katas8-LaunchX-LuceroSigcho-DavidAdriel.ipynb#ch0000007?line=3'>4</a>\u001b[0m total_moons \u001b[39m=\u001b[39m \u001b[39m0\u001b[39m\n\u001b[1;32m----> <a href='vscode-notebook-cell:/c%3A/Users/David%20Lucero/Downloads/Developer%20FullStack/LaunchX%20by%20Microsoft/Ejercicios-Python/Katas8-LaunchX-LuceroSigcho-DavidAdriel.ipynb#ch0000007?line=4'>5</a>\u001b[0m \u001b[39mfor\u001b[39;00m moon \u001b[39min\u001b[39;00m moons:\n\u001b[0;32m      <a href='vscode-notebook-cell:/c%3A/Users/David%20Lucero/Downloads/Developer%20FullStack/LaunchX%20by%20Microsoft/Ejercicios-Python/Katas8-LaunchX-LuceroSigcho-DavidAdriel.ipynb#ch0000007?line=5'>6</a>\u001b[0m     total_moons \u001b[39m=\u001b[39m total_moons \u001b[39m+\u001b[39m moon\n\u001b[0;32m      <a href='vscode-notebook-cell:/c%3A/Users/David%20Lucero/Downloads/Developer%20FullStack/LaunchX%20by%20Microsoft/Ejercicios-Python/Katas8-LaunchX-LuceroSigcho-DavidAdriel.ipynb#ch0000007?line=7'>8</a>\u001b[0m \u001b[39m# Calcula el promedio dividiendo el total_moons por el número de planetas\u001b[39;00m\n",
      "\u001b[1;31mNameError\u001b[0m: name 'moons' is not defined"
     ]
    }
   ],
   "source": [
    "# Calcula el total_moons agregando todas las lunas\n",
    "# Almacena su valor en una variable llamada total_moons\n",
    "\n",
    "total_moons = 0\n",
    "for moon in moons:\n",
    "    total_moons = total_moons + moon\n",
    "\n",
    "# Calcula el promedio dividiendo el total_moons por el número de planetas\n",
    "average = total_moons / planets\n",
    "\n",
    "# Muestra el promedio\n",
    "print(average)"
   ]
  }
 ],
 "metadata": {
  "interpreter": {
   "hash": "62c017c81eb8b46d718596eccd4da42107e31a65dc6c917b708eadc134121f88"
  },
  "kernelspec": {
   "display_name": "Python 3.10.2 64-bit (windows store)",
   "language": "python",
   "name": "python3"
  },
  "language_info": {
   "codemirror_mode": {
    "name": "ipython",
    "version": 3
   },
   "file_extension": ".py",
   "mimetype": "text/x-python",
   "name": "python",
   "nbconvert_exporter": "python",
   "pygments_lexer": "ipython3",
   "version": "3.10.2"
  },
  "orig_nbformat": 4
 },
 "nbformat": 4,
 "nbformat_minor": 2
}
